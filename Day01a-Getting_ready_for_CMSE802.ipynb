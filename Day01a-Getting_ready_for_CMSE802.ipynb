{
 "cells": [
  {
   "cell_type": "markdown",
   "metadata": {},
   "source": [
    " <h1 style=\"font-size:3em\"><b>Getting ready for CMSE 802</b></h1> \n",
    "\n",
    "<figure>\n",
    "<img src=\"https://publications.computer.org/multimedia-magazine/wp-content/uploads/sites/27/2016/09/abstract-art.jpg\" width=400>\n",
    "<figcaption align = \"left\">Computational modeling of affective qualities in abstract paintings</figcaption>\n",
    "</figure> \n",
    "\n",
    "[Image source](https://publications.computer.org/multimedia-magazine/2016/09/06/computational-modeling-of-affective-qualities-of-abstract-paintings/)"
   ]
  },
  {
   "cell_type": "markdown",
   "metadata": {},
   "source": [
    "# ___Before diving into this exercise___\n",
    "\n",
    "&#9989;<font color=blue>**DO THIS:**</font> To prepare for this class:\n",
    "1. Review the [syllabus](https://docs.google.com/document/d/1Dt8b9UbhDRd7xPPzBr3eD38XRHgeMYMX/edit) and [schedule](https://docs.google.com/spreadsheets/d/1DjQM9BM6oiXeBCR5FrhOL50C7OUFlZKG/edit#gid=131872639), be aware of the course goal, contents, and organization.\n",
    "1. Fill out [the pre-class survey](https://msu.co1.qualtrics.com/jfe/form/SV_3pBFSDbD9vqEGea). \n",
    "   - This info will be used to break students into groups.\n",
    "   - This is __required__ and will count toward your final grade."
   ]
  },
  {
   "cell_type": "markdown",
   "metadata": {},
   "source": [
    "----\n",
    "# ___Outline___\n",
    "\n",
    "1. [Learning objectives](#obj)\n",
    "1. [Getting started with VS Code](#vscode)\n",
    "1. [Gettting started with Jupyter](#jupyter)\n",
    "1. [Introduction to Git](#git)\n"
   ]
  },
  {
   "cell_type": "markdown",
   "metadata": {},
   "source": [
    "---\n",
    "<a id='obj'></a>\n",
    "# ___Learning objectives___\n",
    "\n",
    "\n",
    "For each exercise, you will see a list of learning objectivies like these specifying what you should be able to do after.\n",
    "\n",
    "You should be able to:\n",
    "- Explain what this course is about after reading through the syllabus.\n",
    "- Explain what VS Code, Jyputer, and Git are and why we use them.\n",
    "- Assess Jupyter notebooks using your computer.\n",
    "- Make changes and run codes in Jupyter notebook.\n",
    "- Explain why a version control system like Git is useful.\n",
    "- Create your GitHub account.\n",
    "- Create a GitHub repository and share it with others.\n",
    "- Clone your repo, edit its content in VS Code, and commit the changes."
   ]
  },
  {
   "cell_type": "markdown",
   "metadata": {
    "tags": []
   },
   "source": [
    "----\n",
    "<a id=\"vscode\"></a>\n",
    "# ___Getting started with VS Code___\n",
    "\n",
    "<img src=\"https://upload.wikimedia.org/wikipedia/commons/thumb/9/9a/Visual_Studio_Code_1.35_icon.svg/2048px-Visual_Studio_Code_1.35_icon.svg.png\" width=\"10%\" alt=\"Jupyter software logo\">"
   ]
  },
  {
   "cell_type": "markdown",
   "metadata": {},
   "source": [
    "## What is VS Code?\n",
    "\n",
    "VS Code is a free, open source, cross-platform integrated development environment with the following features:\n",
    "1. Free(-ish): You can use it without cost. But in [the license agreement](https://code.visualstudio.com/license): \"The software may collect information about you and your use of the software, and send that to Microsoft... You may opt-out of many of these scenarios, but not all...\"\n",
    "2. Versatile: It has a very large [extension libary](https://code.visualstudio.com/docs/editor/extension-marketplace) that we will use for this class.\n",
    "3. AI-assisted: With the [co-pilot](https://code.visualstudio.com/docs/editor/github-copilot) extension to assist you, you can write code faster, but be aware that the suggestions can be very wrong.\n",
    "4. Version control: It has support for GitHub and GitHub through extensions.\n",
    "5. And many others.\n",
    "\n",
    "There is [a series of other tutorial and documentation](https://code.visualstudio.com/docs) on VS Code. Some of them will be used in later parts of the class.."
   ]
  },
  {
   "cell_type": "markdown",
   "metadata": {},
   "source": [
    "## Learn VS Code in 7 min\n",
    "\n",
    "&#9989;<font color=blue>**DO THIS:**</font> Watch [Learn Visual Studio Code in 7 min](https://www.youtube.com/watch?v=B-s71n0dHUk) video. Once you finish watching, do the following:\n",
    "- Download VS Code from [this page](https://code.visualstudio.com/download), \n",
    "  - Install and run it."
   ]
  },
  {
   "cell_type": "markdown",
   "metadata": {},
   "source": [
    "## Create new folder and file in VS Code\n",
    "\n",
    "&#9989;<font color=blue>**DO THIS:**</font> Next you need to create a new folder for the class.\n",
    "\n",
    "- Click `File`, select `Open folder`:\n",
    "  - Select a folder where you usually put your documents or school related files.\n",
    "- Create a new folder in the folder you just opened: \n",
    "  - This can be done by clicking the icon that looks like couple documents on the left.\n",
    "  - In the explorer tab that opens, point to the folder you just opened.\n",
    "  - There will be a folder icon with `+`, click it.\n",
    "  - A new folder will show and call it `sandbox` \n",
    "\n",
    "&#9989;<font color=blue>**DO THIS:**</font> Go into the `sandbox` folder.\n",
    "\n",
    "  - Create a new file by clicking the icon with file and a `+`,\n",
    "  - Save it as `test.py`."
   ]
  },
  {
   "cell_type": "markdown",
   "metadata": {},
   "source": [
    "## Install extension\n",
    "\n",
    "&#9989;<font color=blue>**DO THIS:**</font> You will be writing and running Python codes in VS Code. To do this, you need to install the Python extension.\n",
    "\n",
    "- Click the icon with 4 little boxes and open the `Extensions` tab.\n",
    "  - Search for Python, and install the `Python` extension.\n",
    "- Open the `test.py` file you have just created.\n",
    "  - Type `print(\"Hello CMSE802)`.\n",
    "  - VS Code will automatically save the file when you are done typing. \n",
    "- Run the Python file by clicking the triangle icon on the top right corner."
   ]
  },
  {
   "cell_type": "markdown",
   "metadata": {},
   "source": [
    "## Your terminal\n",
    "\n",
    "&#9989;<font color=blue>**DO THIS:**</font> By running the Python file, you will see the output in the terminal of your operating system, i.e., a text-based interface used to control your computer. We will be doing some tasks here throughout the class.\n",
    "\n",
    "- Close the terminal window by click the `X` icon on the right of the terminal.\n",
    "- Now, to open the terminal again:\n",
    "  - Click the the triangle icon on the status bar\n",
    "  - Find and click on the `Terminal` tab."
   ]
  },
  {
   "cell_type": "markdown",
   "metadata": {},
   "source": [
    "----\n",
    "<a id=\"jupyter\"></a>\n",
    "# ___Gettting started with Jupyter___\n",
    "\n",
    "<img src=\"https://upload.wikimedia.org/wikipedia/commons/3/38/Jupyter_logo.svg\" width=\"10%\" alt=\"Jupyter software logo\">"
   ]
  },
  {
   "cell_type": "markdown",
   "metadata": {},
   "source": [
    "## What is Jupyter?\n",
    "\n",
    "> The Jupyter Notebook is an open-source web application that allows you to create and share documents that contain live code, equations, visualizations and narrative text. Uses include: data cleaning and transformation, numerical simulation, statistical modeling, data visualization, machine learning, and much more.\n",
    "<p style=\"text-align: right;\">From: https://jupyter.org/ </p>\n",
    "\n",
    "Jupyter works best as a communication tool.  Notebooks will be used throughout this class as a way for instructors to communicate with students and for students to communicate with instructors. We will use Jupyter notebooks extensively for pre-class assignments, in-class assignments, homework and Exams.  "
   ]
  },
  {
   "cell_type": "markdown",
   "metadata": {},
   "source": [
    "## Jyputer notebook tutorial\n",
    "\n",
    "&#9989;<font color=blue>**DO THIS:**</font> Watch [running Jupyter notebook in VS Code](https://youtu.be/9V7AoX0TvSM) video (~6 min). \n",
    "\n",
    "\n",
    "## Jypyter install\n",
    "\n",
    "&#9989;<font color=blue>**DO THIS:**</font> Let's install Jypyter notebook in your computer.\n",
    "\n",
    "- In VS Code, navigate to your `sandbox` folder,\n",
    "- Create a new file in the folder and call it `test.ipynb`.\n",
    "  - This is a Jupyter notebook.\n",
    "- Open the new file and type:\n",
    "\n",
    "```Python\n",
    "print(\"Hello CMSE802\")\n",
    "```\n",
    "\n",
    "- Click the triangle on the left-hand side of the cell to run the cell,\n",
    "- If you don't have Jupyter, you will be prompted to install:\n",
    "  - Follow the prompt to `install kernels from the marketplace`,\n",
    "  - Install `Jupyter notebook` extensions,\n",
    "- Go back to the notebook file\n",
    "  - Click on the triangle again to run,\n",
    "- Choose the Python interpreter to run,\n",
    "  - If a popup appears suggesting new install, go ahead,\n",
    "- Go back to the notebook file and and click on the triangle again to run,\n",
    "  - If a popup appears suggesting installing `ipykernel`, go ahead,\n",
    "- Run the code cell again."
   ]
  },
  {
   "cell_type": "markdown",
   "metadata": {
    "tags": []
   },
   "source": [
    "## Type of cells in the notebook"
   ]
  },
  {
   "cell_type": "markdown",
   "metadata": {},
   "source": [
    "### Markdown cell\n",
    "\n",
    "In the tutorial before, you are running Python code in __code cells__. There is another type of cells called __markdown cell__ (suc as this one). \n",
    "\n",
    "Markdown cells consist of formated text, images and equations much like your favorite word processor.  \n",
    "\n",
    "&#9989;<font color=blue>**DO THIS:**</font> Create a new markdown cell below with the following steps:\n",
    "\n",
    "1. Click the blank area on the left side of this cell (so this cell is indicated with a blue bar but you cannot edit it).\n",
    "2. Press `B` to create a new cell below.\n",
    "3. The new cell should be indicated with a blue bar.\n",
    "4. Press M to indicate that this is a markdown cell.\n",
    "5. Tell us about your day in the markdown cell.\n",
    "6. Press SHIFT-ENTER together to \"run\" the cell. "
   ]
  },
  {
   "cell_type": "markdown",
   "metadata": {},
   "source": [
    "It is going good."
   ]
  },
  {
   "cell_type": "markdown",
   "metadata": {},
   "source": [
    "\n",
    "\n",
    "### Run code cells\n",
    "\n",
    "The following are two code cells written in the Python programming language.  This simple code is a tool to make it easy to search your jupyter notebooks which can be handy if you are looking for something from a previous class. The example searches for an exact string in your notebook files in the current directory and displays links to the files as output. \n",
    "\n",
    "&#9989;<font color=blue>**DO THIS:**</font> Run code cells below\n",
    "\n",
    "To run the code, first select the code cell with your mouse and then hold down the SHIFT key while hitting the ENTER key.  You will have to hit the enter key twice to run both cells."
   ]
  },
  {
   "cell_type": "code",
   "execution_count": 2,
   "metadata": {},
   "outputs": [
    {
     "name": "stdout",
     "output_type": "stream",
     "text": [
      "You just run the 1st cell.\n"
     ]
    }
   ],
   "source": [
    "#Search string\n",
    "search_string = \"containers\"\n",
    "\n",
    "#Search current directory\n",
    "directory ='.'\n",
    "print(\"You just run the 1st cell.\")"
   ]
  },
  {
   "cell_type": "code",
   "execution_count": 3,
   "metadata": {},
   "outputs": [
    {
     "name": "stderr",
     "output_type": "stream",
     "text": [
      "/var/folders/_1/09v8w6_97w366ktsdx6jfxnw0000gn/T/ipykernel_5708/3647238465.py:3: DeprecationWarning: Importing display from IPython.core.display is deprecated since IPython 7.14, please import from IPython display\n",
      "  from IPython.core.display import display, HTML\n"
     ]
    },
    {
     "data": {
      "text/html": [
       "<a href=Day01a-Getting_ready_for_CMSE802.ipynb target=\"_blank\" >Day01a-Getting_ready_for_CMSE802.ipynb</a></br>"
      ],
      "text/plain": [
       "<IPython.core.display.HTML object>"
      ]
     },
     "metadata": {},
     "output_type": "display_data"
    },
    {
     "name": "stdout",
     "output_type": "stream",
     "text": [
      "You just run the second cell.\n"
     ]
    }
   ],
   "source": [
    "import os  \n",
    "import os.path\n",
    "from IPython.core.display import display, HTML\n",
    "\n",
    "search_string = search_string.lower()\n",
    "links=[]\n",
    "\n",
    "for fn in os.listdir(directory):\n",
    "  if 'ipynb' in fn:\n",
    "    if os.path.isfile(fn):\n",
    "      found = False\n",
    "      with open(fn,'r') as fp:\n",
    "        for line in fp:\n",
    "          line = line.lower()\n",
    "          if search_string in line:\n",
    "            links.append(\"<a href=\"+fn+\" target=\\\"_blank\\\" >\"+fn+\\\n",
    "                   \"</a></br>\")\n",
    "            break\n",
    "if links:\n",
    "  display(HTML(' '.join(links)))\n",
    "else:\n",
    "  print('string ('+search_string+') not found.')\n",
    "print(\"You just run the second cell.\")"
   ]
  },
  {
   "cell_type": "markdown",
   "metadata": {
    "tags": []
   },
   "source": [
    "## Jupyter notebook and this class\n",
    "\n",
    "Much of this course will be taught in a \"flipped\" style. This means we give you notebooks to review outside of class and we use in-class time to work on meaningful problems.  Many of our pre-class assignments notebooks use videos to help communicate ideas (in lieu of lecture time in class). \n",
    "\n",
    "There are lots of resources on the web for using Jupyter notebooks and programming with the Python programming language.  The following are some recommended websites for getting more information.  If these sites do not work consider using your favorite search engine.\n",
    "\n",
    "- https://software-carpentry.org/lessons/\n",
    "- https://docs.python.org/3/tutorial/\n",
    "- http://pythontutor.com/\n"
   ]
  },
  {
   "cell_type": "markdown",
   "metadata": {},
   "source": [
    "----\n",
    "<a id=\"git\"></a>\n",
    "# ___Introduction to Git___\n",
    "\n",
    "<img src=\"https://upload.wikimedia.org/wikipedia/commons/thumb/e/e0/Git-logo.svg/512px-Git-logo.svg.png?20160811101906\" width=\"10%\" alt=\"Git logo\">"
   ]
  },
  {
   "cell_type": "markdown",
   "metadata": {},
   "source": [
    "## What is Git and why?\n",
    "\n",
    "[Git](https://git-scm.com/) is the most widely used modern version control system in software industry and academia. Together with websites like [GitHub](https://github.com/) or [GitLab](https://gitlab.msu.edu/), you can work on your project files anywhere with anyone with changes tracked so you can go back to earlier versions should there be issues and avoid conflicts.\n",
    "\n",
    "We will use GitHub in this class beause it has a much larger userbase and is fully integrated with VS Code. If you are interested in learning more, [here is an article discussing their simialrities and differences](https://www.zdnet.com/article/github-vs-gitlab-the-key-differences/) (optional). "
   ]
  },
  {
   "cell_type": "markdown",
   "metadata": {},
   "source": [
    "## Set up GitHub\n",
    "\n",
    "&#9989;<font color=blue>**DO THIS:**</font> Create a GitHub account\n",
    "\n",
    "1. Go to the [GitHub website](https://github.com/join) and join with an email address of your choosing. \n",
    "2. When you log in, it may ask you to created a password for accessing repositories via HTTPS, you should do this for the purposes of being able to push (think of it as upload) and pull (like download) repositories (Git-speak for folders)."
   ]
  },
  {
   "cell_type": "markdown",
   "metadata": {
    "tags": []
   },
   "source": [
    "## Create a repository in the Github website\n",
    "\n",
    "Next, you will create a repository (repo in short) for this class. This repo will be the place where you place the exercise and report files throughout the semester.\n",
    "\n",
    "&#9989;<font color=blue>**DO THIS:**</font> Create a `cmse802-yourlastname` repository\n",
    "\n",
    "1. If you are not logged into GitHub through your browser, login now.\n",
    "1. At the GitHub Dashboard\n",
    "   - Find and click `New` on the left hand side of the page under your account name.\n",
    "1. In the `Create a new repository` page:\n",
    "   - Set `Repository name` as `cmse802-yourlastname`. \n",
    "   - Here `yourlastname` is __YOUR__ last name.\n",
    "   - Set this repo to be `Private`.\n",
    "1. Click `Add a README file`. \n",
    "1. Click `Add .gitignore` and select `Python`. \n",
    "   - This will allow you to ignore certain temporary Python files.\n",
    "1. Click `Choose a license` and select a license you like.\n",
    "1. Click `Create repository`.\n",
    "\n",
    "You can also create a repo through VS Code:\n",
    "- We will not be going into this in class,\n",
    "- Check out [this tutorial](https://dev.to/n3wt0n/create-a-new-github-repo-in-1-click-vscode-29ae) by Davide 'CoderDave' Benvegnù if you'd like to learn more."
   ]
  },
  {
   "cell_type": "markdown",
   "metadata": {
    "tags": []
   },
   "source": [
    "## Add members to your repo\n",
    "\n",
    "&#9989;<font color=blue>**DO THIS:**</font> In this class, you will submit exercises through the repository you just created. We will grade your exercises in the repository so you need to give the instruction team access to it.\n",
    "\n",
    "1. Once created, you will be in your new repo.\n",
    "2. Click `...` on the right side of the page right under your avatar, select `Settings`.\n",
    "3. In the `General` settings page, click `Collaborators` in the menu on the left.\n",
    "4. Click `Add people`:\n",
    "   - Type `shius@msu.edu`, select and click `Add...`\n",
    "   - Type `daihaish@msu.edu`, select and click `Add...`"
   ]
  },
  {
   "cell_type": "markdown",
   "metadata": {},
   "source": [
    "## Access your GitHub repo using VS Code\n",
    "\n",
    "\n",
    "\n",
    "&#9989;<font color=blue>**DO THIS:**</font> So far, the repo you created lives in the cloud, not on your computer. One convenient way to work on it locally is to use VS Code.\n",
    "\n",
    "Step 1. Install `Git`:\n",
    "- Go to [this page](https://git-scm.com/downloads), download, and install `Git` in yuor computer.\n",
    "\n",
    "Step 2. Use VS Code to access your repository:\n",
    "- Open VS Code after Git is installed\n",
    "- Click the portrait icon on the lower left corner and select `sign in to sync settings`.\n",
    "  - You may be prompted to login to GitHub if you log out from your browser.\n",
    "- Click the portrait icon again to see if it shows `your_github_user_name (github)`. \n",
    "  - If so, you are good. \n",
    "  - If not, you need to make sure you login to GitHub in your browser.\n",
    "- Click the gear icon on the lower left corner and select `Command palettes`.\n",
    "  - In the text field that opens, type `Git clone` and press enter.\n",
    "  - Select `clone from GitHub`. \n",
    "  - You may have a popup say \"The extension 'GitHub' want to sign in...\", click `Allow`.\n",
    "  - In the text field that shows up next, type `your_github_username/cmse802_yourlastname`.\n",
    "- Next, it will ask where you want the repo to be:\n",
    "  - Select a location that make sense to you. \n",
    "  - My suggestion would be a folder with all your classes, all your projects, or, in my case, all my repos.\n",
    "- Click `Open in New Window` when it asks `Would you like to open the cloned repo, or add it...`"
   ]
  },
  {
   "cell_type": "markdown",
   "metadata": {},
   "source": [
    "## Make and commit changes with VS Code\n",
    "\n",
    "Now, you have a local copy of the repo you just created! Throughout the semester, you will be making changes to your repo locally. Once you are happy with the changes, you will then __committ__ the changes to GitHub.\n",
    "\n",
    "To illustrate this, we will make changes to the `README.md` file in your repo:\n",
    "- `README.md` should have info of the project you are working on. \n",
    "- Have a quick look at [this freecodecamp tutorial](https://www.freecodecamp.org/news/how-to-write-a-good-readme-file/) on how to craft an informative `README.md`.\n",
    "- Also check out [this example README.md](https://github.com/jehna/readme-best-practices/blob/master/README-default.md) from Github.\n",
    "\n",
    "&#9989;<font color=blue>**DO THIS:**</font> Let's edit `README.md` in VS Code:\n",
    "1. Go to the VS Code window where your repo is open.\n",
    "1. Click the `files` icon on the top-left corner and you should see your `README.md` file listed in the `Explorer`.\n",
    "1. Click `README.md` to edit it. \n",
    "1. Use the [markdown cheatsheet](https://github.com/adam-p/markdown-here/wiki/Markdown-Cheatsheet) to add the following:\n",
    "   - Name of your repo in Header 1.\n",
    "   - Ceate an unordered list below the name of your repo with:\n",
    "   - Your name\n",
    "   - Your major\n",
    "   - Another section in Header 1 and call it `Project description`.\n",
    "   - Provide a short description what this repo is about.\n",
    "   - Once you make the above changes, VS Code will automatically save the changes.\n",
    "1. Click the `Source control` icon on the left hand side (thrid one down).\n",
    "1. In the `Message` field, provide a short summary on what changes have been made.\n",
    "   - Commit message is a very important component in version control and needs to be done right. \n",
    "   - [Here](https://www.freecodecamp.org/news/how-to-write-better-git-commit-messages/) is a guide on how to right better commit messages.\n",
    "1. Click `Commit`.\n",
    "1. Click `Sync changes`\n",
    "1. Go check out your `cmse802-yourlastname` repo in the web browswer, has the changes been committed?"
   ]
  },
  {
   "cell_type": "markdown",
   "metadata": {},
   "source": [
    "<font size=+3>&#9998;</font> Erase the contents of this cell and replace it with your answer to the above question!"
   ]
  },
  {
   "cell_type": "markdown",
   "metadata": {},
   "source": [
    "# ___Question time___\n",
    "In exercises, we will be asking you questions. Since this is before the class starts, we will just ask you two! question.\n",
    "\n",
    "&#9989; <font color=red>**QUESTION:**</font> Got back and read the [Learning objectives](#learning_obj) again. Are you able to do all the things we set out to do? If not, what challenges did you face?"
   ]
  },
  {
   "cell_type": "markdown",
   "metadata": {},
   "source": [
    "<font size=+3>&#9998;</font> So far everything went fine, except the commit function. I am trying to figure it out."
   ]
  },
  {
   "cell_type": "markdown",
   "metadata": {},
   "source": [
    "&#9989; <font color=red>**QUESTION:**</font> How long did it take for you to finish this exercise?"
   ]
  },
  {
   "cell_type": "markdown",
   "metadata": {},
   "source": [
    "<font size=+3>&#9998;</font> Around 1 hour."
   ]
  },
  {
   "cell_type": "markdown",
   "metadata": {},
   "source": [
    "---------\n",
    "### Congratulations, you're done!\n",
    "\n",
    "You are all set! Look forward to seeing you in class!"
   ]
  },
  {
   "cell_type": "markdown",
   "metadata": {},
   "source": [
    "# __Note for instructor__\n",
    "\n",
    "- Instruction for [Convert notebook to PDF](https://saturncloud.io/blog/how-to-export-jupyter-notebook-by-vscode-in-pdf-format/)\n",
    "  - Also need to [install tex](https://nbconvert.readthedocs.io/en/latest/install.html#installing-tex)"
   ]
  }
 ],
 "metadata": {
  "anaconda-cloud": {},
  "kernelspec": {
   "display_name": "Python 3 (ipykernel)",
   "language": "python",
   "name": "python3"
  },
  "language_info": {
   "codemirror_mode": {
    "name": "ipython",
    "version": 3
   },
   "file_extension": ".py",
   "mimetype": "text/x-python",
   "name": "python",
   "nbconvert_exporter": "python",
   "pygments_lexer": "ipython3",
   "version": "3.11.4"
  },
  "toc-autonumbering": false
 },
 "nbformat": 4,
 "nbformat_minor": 4
}
