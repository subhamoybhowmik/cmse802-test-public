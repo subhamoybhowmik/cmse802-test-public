{
 "cells": [
  {
   "cell_type": "markdown",
   "metadata": {},
   "source": [
    "In order to successfully complete this assignment you need to:\n",
    "1. Participate both individually and in groups during class.\n",
    "2. Submit this notebook to the `day02` folder of the `exercise` folder in your `cmse802-yourlastname` repository by 10pm __the DAY BEFORE the class__. Late assignment will receive <=80% of the grade."
   ]
  },
  {
   "cell_type": "markdown",
   "metadata": {},
   "source": [
    "### <p style=\"text-align: left;\"> &#9989; Subhamoy Bhowmik </p>"
   ]
  },
  {
   "cell_type": "markdown",
   "metadata": {},
   "source": [
    "<h1 style=\"font-size:3em\"><b>Pre-Class: Python Review and more on Git</b></h1>\n",
    "\n",
    "<div align=\"left\"><img src=\"https://img.rawpixel.com/s3fs-private/rawpixel_images/website_content/a010-markusspiske-feb19-msp_1902_4971.jpg?w=600&dpr=1&fit=default&crop=default&q=65&vib=3&con=3&usm=15&bg=F4F4F3&ixlib=js-2.2.1&s=df3d0fca5b1bdf50833f86397dbe9a60 alt=\"Programming Images\" width=400></div>"
   ]
  },
  {
   "cell_type": "markdown",
   "metadata": {
    "tags": []
   },
   "source": [
    "# ___Outline___\n",
    "\n",
    "1. [Learning objectives](#obj)\n",
    "1. [Improve your programming skill and efficiency](#tutor)\n",
    "1. [More on git](#git)\n",
    "1. [Assignment wrap-up](#wrapup)"
   ]
  },
  {
   "cell_type": "markdown",
   "metadata": {},
   "source": [
    "---\n",
    "<a id=\"obj\"></a>\n",
    "# ___Learning objectives___\n",
    "\n",
    "At the end of the exercise, you should be able to:\n",
    "- Make use of Python Tutor to become a better programmer.\n",
    "- Install and use Copilot\n",
    "- Clone a public repo.\n",
    "- Create a forked repo and sync changes to it.\n",
    "- Distinguish between forking and branching.\n",
    "- Create a pull request from a fork.\n"
   ]
  },
  {
   "cell_type": "markdown",
   "metadata": {
    "tags": []
   },
   "source": [
    "---\n",
    "<a id=\"tutor\"></a>\n",
    "# ___Improve your programming skills___\n",
    "\n",
    "<img src=\"https://upload.wikimedia.org/wikipedia/commons/c/c3/Python-logo-notext.svg\" width=100>"
   ]
  },
  {
   "cell_type": "markdown",
   "metadata": {},
   "source": [
    "### What is Python tutor and why?\n",
    "\n",
    "[Python Tutor](http://www.pythontutor.com/) is a web-based tool to help figure out how the python interpreter maintains the state of variables and modules.\n",
    "\n",
    "We recommend using this tool anytime you are confused about what is going on inside of Python codes. \n",
    "\n",
    "&#9989; <font color=blue>**DO THIS:**</font> Watch [this 8 min pythonTutor.com tutorial\n",
    "](https://www.youtube.com/watch?v=8V_fnXMs5_8) video. "
   ]
  },
  {
   "cell_type": "markdown",
   "metadata": {},
   "source": [
    "### A simple example\n",
    "\n",
    "&#9989; <font color=red>**QUESTION:**</font> Run the following code block. Then submit the code to Python tutor. How python tutor represents the following two dimensional list:"
   ]
  },
  {
   "cell_type": "code",
   "execution_count": 1,
   "metadata": {},
   "outputs": [
    {
     "name": "stdout",
     "output_type": "stream",
     "text": [
      "[[('me', 'you'), 20, 30], [4, 5, 6], ['a', 'b', 'c']]\n"
     ]
    }
   ],
   "source": [
    "L = [[('me','you'), 20, 30], [4, 5, 6], ['a','b','c']]\n",
    "print(L)"
   ]
  },
  {
   "cell_type": "markdown",
   "metadata": {},
   "source": [
    "<font size=+3>&#9998;</font> It breaks up the 2d list to 3 lists and then breaks first one in one tuple and other 2 elements of the list."
   ]
  },
  {
   "cell_type": "markdown",
   "metadata": {},
   "source": [
    "### A more complicated example\n",
    "\n",
    "The following code is a recursive function for calculating fibonacci series modified from [GeeksForGeeks](https://www.geeksforgeeks.org/recursion-in-python/).\n",
    "\n",
    "&#9989; <font color=blue>**DO THIS:**</font> Run the code cell below Then copy the code into Python Tutor and run it."
   ]
  },
  {
   "cell_type": "code",
   "execution_count": 2,
   "metadata": {},
   "outputs": [
    {
     "name": "stdout",
     "output_type": "stream",
     "text": [
      "Fibonacci series with n_terms = 10\n",
      "[0, 1, 1, 2, 3, 5, 8, 13, 21, 34]\n"
     ]
    }
   ],
   "source": [
    "def recursive_fibonacci(n):\n",
    "  if n <= 1:\n",
    "    return n\n",
    "  else:\n",
    "    return(recursive_fibonacci(n-1) + recursive_fibonacci(n-2))\n",
    "\n",
    "n = 10 \n",
    "print(f\"Fibonacci series with n_terms = {n}\")\n",
    "print([recursive_fibonacci(i) for i in range(n)])"
   ]
  },
  {
   "cell_type": "markdown",
   "metadata": {},
   "source": [
    "&#9989; <font color=red>**QUESTION:**</font> Explain does recursion work in the answer cell below."
   ]
  },
  {
   "cell_type": "markdown",
   "metadata": {},
   "source": [
    "<font size=+3>&#9998;</font> It goes to the 2nd print statement and then starts from the parameter value 0 and then inreases till 10."
   ]
  },
  {
   "cell_type": "markdown",
   "metadata": {},
   "source": [
    "## Using Copilot\n",
    "\n",
    "<img src=\"https://upload.wikimedia.org/wikipedia/commons/thumb/8/8a/GitHub_Copilot_logo.svg/1200px-GitHub_Copilot_logo.svg.png\" width=400>\n",
    "\n",
    "[Disclaimer] Below is writen by Copilot:\n",
    "\n",
    "_\"AI has transformed many aspects of computational research. In programming, one of the most dramatic is the availability of AI tools that can write code. The most recent example is GitHub Copilot, which is a collaboration between GitHub and OpenAI. Copilot is a tool that can write code based on a description of the task. It is based on GPT-3, a language model that was trained on a large corpus of text. Copilot is a commercial product, but it is available for free to open source developers. It is also available to anyone who wants to try it out, but it is not clear how long that will last.\"_\n",
    "\n",
    "- Not the best writing, but it gets the idea across doesn't it!\n",
    "\n",
    "&#9989; <font color=blue>**DO THIS:**</font> Watch [this 14 min video introducing Coplot](https://www.youtube.com/watch?v=Fi3AJZZregI&t=48s). After you are done with the video:\n",
    "\n",
    "- [Follow this link](https://dev.to/twizelissa/how-to-enable-github-copilot-for-free-as-student-4kal) to associate your GitHub account with GitHub Education.\n",
    "- Click the  `Extension` icon in VS Code and install the Copilot extension. We will play with this in class.\n",
    "- In the code cell below, type the comment operator # to start a comment and type `how should I implement a fibonacci`, then see what the suggestion is. "
   ]
  },
  {
   "cell_type": "code",
   "execution_count": null,
   "metadata": {},
   "outputs": [],
   "source": [
    "# put your code here"
   ]
  },
  {
   "cell_type": "markdown",
   "metadata": {},
   "source": [
    "----\n",
    "<a id=\"git\"></a>\n",
    "# ___More on git___\n",
    "\n",
    "<img src=\"https://git-scm.com/images/logos/downloads/Git-Logo-2Color.png\" width=\"100\">\n",
    "\n",
    "We have introduced `Git`, a version control system that is widely used. `Git` is a complex tool with with a lot of functionality. Three most frequent tasks involving `Git` include:\n",
    "1. Establishing new repositories: you have done this already.\n",
    "1. Cloning repositories: focus in this tutorial.\n",
    "1. Writing code collaboratively: focus in-class.\n",
    "\n",
    "What we will not show you how to use `Git` through command line.\n",
    "- `Git` command line tools are powerful but complicated.\n",
    "- Considering the time limit in this class, we will not focus on this.\n",
    "- To learn more on your own, check out [the comprehensive Git tutorial from W3schools](https://www.w3schools.com/git/)."
   ]
  },
  {
   "cell_type": "markdown",
   "metadata": {},
   "source": [
    "## Clone a public repository\n",
    "\n",
    "Most people's introduction to ```git``` is when they come across some software on [github.com](http://github.com) they want to download.  \n",
    "- The codes for the software are usually in a repository (or repo), a folder with a collection of files.\n",
    "- There are two types of repos:\n",
    "  - Public: anyone can clone (copy) it.\n",
    "  - Private: only owner or an assigned collaborator(s) can see it."
   ]
  },
  {
   "cell_type": "markdown",
   "metadata": {},
   "source": [
    "### An example public repo\n",
    "\n",
    "&#9989; <font color=blue>**DO THIS:**</font> Go to [the Github website](https://github.com/) do the following:\n",
    "\n",
    "Search for a repo to clone:\n",
    "- In the search field on the top of the webpage, type in `cmse802-test-public`.\n",
    "- In the repo, find the drop-down menu that says `code`, click it.\n",
    "- In the drop-down, make sure you are in the `HTTPS` tab, and copy the link.\n",
    "\n",
    "Clone the repo by:\n",
    "- Open VS Code\n",
    "- Click the gear icon on the lower left corner and select `Command Palette`.\n",
    "- Type `git clone`, presss enter.\n",
    "- Paste the link to the repo you just copied, press enter.\n",
    "- Select a folder of your liking to store the repo.\n",
    "- In the pop-up, choose to `open` the cloned repo."
   ]
  },
  {
   "cell_type": "markdown",
   "metadata": {},
   "source": [
    "### Can you modify the content of the public repo you cloned?\n",
    "\n",
    "&#9989; <font color=blue>**DO THIS:**</font> In VS Code:\n",
    "\n",
    "The repo you just cloned should have a file called `please_mess_with_me.py`:\n",
    "- Open the file\n",
    "- Comment out the line that will create error.\n",
    "- Commit the changes, recall in Day01 pre-class exercise:\n",
    "   1. Click the `Source control` icon on the left hand side (thrid one down).\n",
    "   1. Type a committ message and `Commit`.\n",
    "   1. Click `Sync changes`\n",
    "- A pop up show up, for now, click `Create fork`."
   ]
  },
  {
   "cell_type": "markdown",
   "metadata": {},
   "source": [
    "&#9989; <font color=red>**QUESTION:**</font>  You will see that you cannot committ the changes unless a fork is created.\n",
    "- Why is that?\n",
    "- How is fork differ from the repo that you cloned?"
   ]
  },
  {
   "cell_type": "markdown",
   "metadata": {},
   "source": [
    "<font size=+3>&#9998;</font> Put your answer to the above question here"
   ]
  },
  {
   "cell_type": "markdown",
   "metadata": {},
   "source": [
    "## Fork vs. branch"
   ]
  },
  {
   "cell_type": "markdown",
   "metadata": {},
   "source": [
    "\n",
    "### What's the differences?\n",
    "\n",
    "Forking creates an __entirely new__ copy of the original repo:\n",
    "- A personal copy of another user's repository. \n",
    "- Allows you to make changes without affecting the original.\n",
    "- Once changes are made in the fork, you can propose these modifications to the original repository via a __pull request__.\n",
    "\n",
    "Branching create a divergent path from the main line of development to:\n",
    "- Isolate new work from the main branch,\n",
    "- Ensure that the main (also referred to as 'master') branch remains unaffected until the new branch is ready to be __merged__.\n",
    "- Have multiple lines of development in parallel\n",
    "\n",
    "If you want to know more: Eugenia Mikoliuk has a helpful post on [How To Understand Git Fork Vs Branch: A Clear Explanation](https://marketsplash.com/tutorials/git/git-fork-vs-branch/).\n"
   ]
  },
  {
   "cell_type": "markdown",
   "metadata": {},
   "source": [
    "### When to fork and when to branch?\n",
    "\n",
    "You need to fork when you want:\n",
    "- Full control over your forked copy.\n",
    "- To experiment with the repo by changing a lot of things.\n",
    "- To maintain an independent version (e.g., all the different flavors of linux are forks).\n",
    "\n",
    "You need to branch when you are:\n",
    "- A member of a team working on the same project.\n",
    "- Developing or experimenting with a new feature without impacting the development in the main branch.\n",
    "- Fixing bugs, so you are not introducing new problems to the main branch during the fix."
   ]
  },
  {
   "cell_type": "markdown",
   "metadata": {},
   "source": [
    "### Create a pull request from a fork\n",
    "\n",
    "Suppose you discovered a pretty big problem with the codes that you cloned, beyond fixing your forked copy, you'd like the owner to know about this big problem. This can be done by creating a `pull request`.\n",
    "\n",
    "&#9989; <font color=blue>**DO THIS:**</font> In the `cmse802-test-public` repo:\n",
    "\n",
    "- Modify `please_mess_with_me.py` some more with a few more lines of codes.\n",
    "- In the `Create view`, select the base repository you'd like your pull request to target, fill in the title, and describe why you create the request.\n",
    "- Click `Create`. \n",
    "\n",
    "That's it. Now it is up to the owner(s)/collaborator(s) of the repo to decide what to do with your pull request!\n",
    "\n",
    "In the in-class exercise, we will continue on creating branch and merge request."
   ]
  },
  {
   "cell_type": "markdown",
   "metadata": {},
   "source": [
    "----\n",
    "<a id=\"wrapup\"></a>\n",
    "# ___Assignment wrap-up___\n",
    "\n",
    "Please answer the qeustions below.  **You must completely fill them out in order to receive credit for the assignment!**"
   ]
  },
  {
   "cell_type": "markdown",
   "metadata": {},
   "source": [
    "&#9989; <font color=red>**QUESTION:**</font> What was the **most** challenging part of this assignment for you? "
   ]
  },
  {
   "cell_type": "markdown",
   "metadata": {},
   "source": [
    "<font size=+3>&#9998;</font> Put your answer to the above question here"
   ]
  },
  {
   "cell_type": "markdown",
   "metadata": {},
   "source": [
    "&#9989; <font color=red>**QUESTION:**</font> What was the **least** challenging part of this assignment for you?"
   ]
  },
  {
   "cell_type": "markdown",
   "metadata": {},
   "source": [
    "<font size=+3>&#9998;</font> Put your answer to the above question here"
   ]
  },
  {
   "cell_type": "markdown",
   "metadata": {},
   "source": [
    "&#9989; <font color=red>**QUESTION:**</font>  Do you have any further questions or comments about this material, or anything else that's going on in class?"
   ]
  },
  {
   "cell_type": "markdown",
   "metadata": {},
   "source": [
    "<font size=+3>&#9998;</font> Put your answer to the above question here"
   ]
  },
  {
   "cell_type": "markdown",
   "metadata": {},
   "source": [
    "&#9989; <font color=red>**QUESTION:**</font> Till this point, approximately how long did this pre-class assignment take?"
   ]
  },
  {
   "cell_type": "markdown",
   "metadata": {},
   "source": [
    "<font size=+3>&#9998;</font> Put your answer to the above question here"
   ]
  },
  {
   "cell_type": "markdown",
   "metadata": {},
   "source": [
    "---------\n",
    "### Congratulations, you're done with your pre-class assignment!\n",
    "\n",
    "To get credit for this assignment you must upload the assignment to the exercises folder in the `cmse802-yourlastname` repository by 4pm the day before the class."
   ]
  }
 ],
 "metadata": {
  "anaconda-cloud": {},
  "kernelspec": {
   "display_name": "Python 3 (ipykernel)",
   "language": "python",
   "name": "python3"
  },
  "language_info": {
   "codemirror_mode": {
    "name": "ipython",
    "version": 3
   },
   "file_extension": ".py",
   "mimetype": "text/x-python",
   "name": "python",
   "nbconvert_exporter": "python",
   "pygments_lexer": "ipython3",
   "version": "3.11.4"
  }
 },
 "nbformat": 4,
 "nbformat_minor": 4
}
