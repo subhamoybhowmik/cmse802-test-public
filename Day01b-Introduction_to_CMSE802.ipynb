{
 "cells": [
  {
   "cell_type": "markdown",
   "metadata": {},
   "source": [
    "In order to successfully complete this assignment you need to:\n",
    "1. Participate both individually and in groups during class.\n",
    "2. Submit this notebook to the `day01` folder in `exercises` in your `cmse802-yourlastname` repository by 10pm __the SAME DAY of the class__. Late assignment will receive <=80% of the grade."
   ]
  },
  {
   "cell_type": "markdown",
   "metadata": {},
   "source": [
    "### <p style=\"text-align: left;\"> &#9989; Subhamoy Bhowmik </p>"
   ]
  },
  {
   "cell_type": "markdown",
   "metadata": {
    "tags": []
   },
   "source": [
    "<h1 style=\"font-size:3em\"><b>Welcome to CMSE802 - Methods in Computational Modeling</b></h1> \n",
    "\n",
    "<figure>\n",
    "<img src=\"https://cdn.serc.carleton.edu/images/cismi/computation/fractal_art.jpg\" width=400>\n",
    "<figcaption align = \"left\">Fractal art</figcaption>\n",
    "</figure> \n",
    "\n",
    "[Image source](https://serc.carleton.edu/cismi/itl/computation/index.html)"
   ]
  },
  {
   "cell_type": "markdown",
   "metadata": {},
   "source": [
    "---\n",
    "# ___Outline___\n",
    "\n",
    "1. [Learning objectives](#obj)\n",
    "1. [Get to know each other](#introduce)\n",
    "1. [About the course](#goals)\n",
    "1. [Review of pre-class assignment](#review)\n",
    "1. [Setting up for the class](#SettingUp)"
   ]
  },
  {
   "cell_type": "markdown",
   "metadata": {},
   "source": [
    "---\n",
    "<a id=\"obj\"></a>\n",
    "# ___Learning objectives___\n",
    "\n",
    "At the end of the exercise, you should be able to:\n",
    "- Explain the course goals and the major components of the class.\n",
    "- Assess Jupyter notebooks using your computer and through the Engineering JuputerHub.\n",
    "- Make changes to Jupyter notebooks and save them.\n",
    "- Explain why a version control system like GitHub is useful.\n",
    "- Create a GitHub repository named `CMSE-802-LASTNAME` and push new content to the repository"
   ]
  },
  {
   "cell_type": "markdown",
   "metadata": {},
   "source": [
    "---\n",
    "<a id=\"introduce\"></a>\n",
    "\n",
    "# ___Get to know each othe___\n",
    "\n",
    "&#9989;<font color=blue>**DO THIS:**</font> Form groups of 2~3 people, interview each other by asking the following questions:\n",
    "* What is your name and where are you from?\n",
    "* What is your area of research in $\\leq 7$ words?\n",
    "* What is that one thing you can share so others in the class know you better (e.g., favorite book, hobby, or unforgettable experience)?"
   ]
  },
  {
   "cell_type": "markdown",
   "metadata": {
    "tags": []
   },
   "source": [
    "---\n",
    "<a id=\"goals\"></a>\n",
    "\n",
    "# ___About the course___\n",
    "\n",
    "Please see the powerpoint presentation by the instructor."
   ]
  },
  {
   "cell_type": "markdown",
   "metadata": {},
   "source": [
    "&#9989; <font color=red>**QUESTION:**</font> After learning about others' responses to the survey in terms of their skill levels and what they would like to get out of the class, what are your thoughts on:\n",
    "- What areas may you help the others to learn about computational modeling?\n",
    "- Are there topics you think we should emphasize more after you hear from others?"
   ]
  },
  {
   "cell_type": "markdown",
   "metadata": {},
   "source": [
    "<font size=+3>&#9998;</font> I think I can help others in mathematical background development if they need for modelling.\n",
    "\n",
    "Observing the survey results, I think the ML tools can be emphasized more in this course."
   ]
  },
  {
   "cell_type": "markdown",
   "metadata": {},
   "source": [
    "----\n",
    "<a id=\"review\"></a>\n",
    "# ___Review of pre-class assignment___\n",
    "\n",
    "In group of 3-4, answer the following:"
   ]
  },
  {
   "cell_type": "markdown",
   "metadata": {},
   "source": [
    "&#9989; <font color=red>**QUESTION:**</font> Did you get stuck doing pre-class exercise? If so where did you get stuck? Discuss with your groupmates on how they get them to work. What solutions did your groupmates suggest?"
   ]
  },
  {
   "cell_type": "markdown",
   "metadata": {},
   "source": [
    "<font size=+3>&#9998;</font> The syncing data in VS code to Github took some time to solve. But finally we succeeded."
   ]
  },
  {
   "cell_type": "markdown",
   "metadata": {
    "tags": []
   },
   "source": [
    "----\n",
    "<a id=\"SettingUp\"></a>\n",
    "#  ___Setting up for the class___"
   ]
  },
  {
   "cell_type": "markdown",
   "metadata": {},
   "source": [
    "## Terminal and folders\n",
    "\n",
    "&#9989;<font color=blue>**DO THIS:**</font> You will issue commands through terminals freuqently in this class. For each day, we will also create a folder to store material for that day. Do the following:\n",
    "\n",
    "1. Open VS Code\n",
    "   - For Windows users, make sure you connect to WSL (see pre-class for instruction).\n",
    "1. Open the `cmse802-yourlastname` folder that contains your repo.\n",
    "1. Open the terminal pane in Vs Code. This will start in your home directory.\n",
    "1. Create an `exercises` folder in your home directory with the following:\n",
    "   - `mkdir exercises`\n",
    "1. Go into the `exercises` folder in your terminal with the following:\n",
    "   - `cd exercises`\n",
    "1. Create a `day01` folder and go into the `day01` folder through your terminal.\n",
    "1. Create a new text file called `test.txt` in this folder with VS Code and type something in there.\n",
    "1. Navigate back to the `exercises` folder (i.e., up one level) using your terminal.\n",
    "   - `cd ..`\n",
    "1. You should have downlodaed this Jupyter notebook:\n",
    "   - Use whatever means you have, move this notebook into the `day01` folder,\n",
    "   - Once you done moving this, open it in VS Code.\n",
    "\n",
    "Note that you can also create a folder, navigate to diffrent folders through the Explorer in VS Code. We are doing this throgh terminal because you need to be familiar with how this is done for other purposes."
   ]
  },
  {
   "cell_type": "markdown",
   "metadata": {},
   "source": [
    "&#9989; <font color=red>**QUESTION:**</font> Have you successfully completed all steps? How about your groupmates?"
   ]
  },
  {
   "cell_type": "markdown",
   "metadata": {},
   "source": [
    "<font size=+3>&#9998;</font> Yes, we could do these things pretty well."
   ]
  },
  {
   "cell_type": "markdown",
   "metadata": {},
   "source": [
    "## Interact with GitHub thorugh VS Code\n",
    "\n",
    "Through the Day01 pre-class exercise, you should have:\n",
    "- Created your GitHub account.\n",
    "- Created a project/repository called `cmse802-yourlastname`.\n",
    "\n",
    "&#9989;<font color=blue>**DO THIS:**</font> Check your GitHub setup online:\n",
    "\n",
    "1. Login to your [GitHub](https://GitHub.msu.edu) account.\n",
    "2. Open `cmse802-yourlastname`.\n",
    "3. Show your groupmates your repo,  `README.md`, and collaborators.\n",
    "4. Make sure your groupmates have the repo created."
   ]
  },
  {
   "cell_type": "markdown",
   "metadata": {},
   "source": [
    "&#9989; <font color=red>**QUESTION:**</font> Are your instuctor and TA listed as member developers?"
   ]
  },
  {
   "cell_type": "markdown",
   "metadata": {},
   "source": [
    "<font size=+3>&#9998;</font> Yes."
   ]
  },
  {
   "cell_type": "markdown",
   "metadata": {
    "tags": []
   },
   "source": [
    "## Commit the changes in your repo\n",
    "\n",
    "Your in-class exercise will be graded. Once you finish answering all the questions, you need to submit the notebook __by 10pm the same day of the class__.\n",
    "\n",
    "&#9989;<font color=blue>**DO THIS:**</font> Submit today's in-class assignment in `cmse802-yourlastname` repository\n",
    "\n",
    "1. You should have this Jupyter notebook in the `cmse802-yourlastname/day01` folder already. \n",
    "   - If not, move it over.\n",
    "1. Click the `Source control` icon on the left-hand side.\n",
    "1. Discuss with your neighbor on what commit message you will provide. Recall that a good commit message will:\n",
    "   - Have capitalized the first word and do not end in punctuation.\n",
    "   - Use imperative mood, i.e. demand or require that an action be performed.\n",
    "   - Specify the type of commit, e.g., Bugfix, Update, Refactor, Bump, etc.\n",
    "   - Keep it to be <50 characters\n",
    "   - Be direct, try to eliminate filler words and phrases\n",
    "1. Once you finish the commit message, click `Commit`.\n",
    "1. Then click `Sync changes`.\n",
    "1. Check if your and your neighbor's files are pushed to GitHub correctly."
   ]
  },
  {
   "cell_type": "markdown",
   "metadata": {},
   "source": [
    "---------\n",
    "### Congratulations, we're done!\n",
    "\n",
    "To get credit for this assignment you must submit this before assignment due date."
   ]
  }
 ],
 "metadata": {
  "kernelspec": {
   "display_name": "Python 3 (ipykernel)",
   "language": "python",
   "name": "python3"
  },
  "language_info": {
   "codemirror_mode": {
    "name": "ipython",
    "version": 3
   },
   "file_extension": ".py",
   "mimetype": "text/x-python",
   "name": "python",
   "nbconvert_exporter": "python",
   "pygments_lexer": "ipython3",
   "version": "3.11.4"
  }
 },
 "nbformat": 4,
 "nbformat_minor": 4
}
